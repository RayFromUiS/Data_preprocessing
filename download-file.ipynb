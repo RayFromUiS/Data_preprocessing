{
 "cells": [
  {
   "cell_type": "code",
   "execution_count": 4,
   "metadata": {},
   "outputs": [],
   "source": [
    "import requests\n",
    "import pandas as pd\n",
    "import os\n",
    "from time import sleep\n"
   ]
  },
  {
   "cell_type": "code",
   "execution_count": 6,
   "metadata": {},
   "outputs": [],
   "source": [
    "base_dir = os.getcwd()"
   ]
  },
  {
   "cell_type": "code",
   "execution_count": 9,
   "metadata": {},
   "outputs": [],
   "source": [
    "def read_in(dir_name):\n",
    "    return pd.read_excel(dir_name)\n"
   ]
  },
  {
   "cell_type": "code",
   "execution_count": 25,
   "metadata": {},
   "outputs": [],
   "source": [
    "def load_requests(well_bore_id,core_images_url,dump_path):\n",
    "    \n",
    "    \"\"\"\n",
    "    source code from :\n",
    "    https://stackoverflow.com/questions/8286352/how-to-save-an-image-locally-using-python-whose-url-address-i-already-know\n",
    "    \n",
    "    Load a file from an URL (e.g. http).\n",
    "    Parameters\n",
    "    ----------\n",
    "    well_bore_id : str\n",
    "        Well id .\n",
    "    core_images_url : str\n",
    "        Where to load the file from.\n",
    "    dump_path : str\n",
    "        Where the loaded file is stored.\n",
    "    \"\"\"\n",
    "    ##concat file name\n",
    "    file_name = well_bore_id+'_'+ core_images_url.split('/')[-1]\n",
    "    ## try to detect the file existed or not\n",
    "    try:\n",
    "        with open(dump_path+'/'+file_name) as file:\n",
    "#             print('file downloaded',flush =True,end=\" \")\n",
    "            pass\n",
    "            \n",
    "    ## if not existed,then made the request        \n",
    "    except IOError:     \n",
    "        sleep(2)\n",
    "        r = requests.get(core_images_url, stream=True)\n",
    "        if core_images_url:      \n",
    "            if r.status_code == 200:\n",
    "                    with open(dump_path+'/'+file_name, 'wb') as f:\n",
    "                        for chunk in r:\n",
    "                            f.write(chunk)\n",
    "        else:\n",
    "            print('one of the url is empty')"
   ]
  },
  {
   "cell_type": "code",
   "execution_count": 26,
   "metadata": {},
   "outputs": [],
   "source": [
    "def main():\n",
    "    \n",
    "    ##download path and id-urls pair\n",
    "    dir_name = './102-Norway_NPD/2-Well Info-Table/wellbore_with_core_photo.xlsx'\n",
    "    dump_path ='./norway_core_imgs'\\\n",
    "    ##read in data    \n",
    "    core_images = read_in(dir_name)\n",
    "    \n",
    "    well_bore_ids = core_images['Wellbore'].astype('str').apply(lambda x:x.replace('/','-')).values\n",
    "    core_images_urls = core_images['Core photo URL'].values\n",
    "    ## dict to save the file id alreay downloaded\n",
    "    downloaded_imgs = {}\n",
    "    core_images_urls = core_images['Core photo URL'].values\n",
    "    \n",
    "\n",
    "    \n",
    "    for well_bore_id,core_images_url in zip(well_bore_ids,core_images_urls):\n",
    "        ##downloaed and save the file\n",
    "        load_requests(well_bore_id,core_images_url,dump_path)\n",
    "#         print(f'{well_bore_id} downloaded',end ='/',flush =True)\n",
    "        downloaded_imgs[well_bore_id] = core_images_urls\n",
    "    "
   ]
  },
  {
   "cell_type": "code",
   "execution_count": null,
   "metadata": {},
   "outputs": [],
   "source": [
    "main()"
   ]
  },
  {
   "cell_type": "code",
   "execution_count": null,
   "metadata": {},
   "outputs": [],
   "source": []
  }
 ],
 "metadata": {
  "kernelspec": {
   "display_name": "Python 3",
   "language": "python",
   "name": "python3"
  },
  "language_info": {
   "codemirror_mode": {
    "name": "ipython",
    "version": 3
   },
   "file_extension": ".py",
   "mimetype": "text/x-python",
   "name": "python",
   "nbconvert_exporter": "python",
   "pygments_lexer": "ipython3",
   "version": "3.7.4"
  }
 },
 "nbformat": 4,
 "nbformat_minor": 2
}
