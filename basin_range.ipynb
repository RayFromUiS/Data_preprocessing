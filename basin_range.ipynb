{
 "cells": [
  {
   "cell_type": "code",
   "execution_count": 3,
   "metadata": {},
   "outputs": [],
   "source": [
    "import pandas as pd\n",
    "import os"
   ]
  },
  {
   "cell_type": "code",
   "execution_count": 2,
   "metadata": {},
   "outputs": [],
   "source": [
    "## read data in"
   ]
  },
  {
   "cell_type": "code",
   "execution_count": 55,
   "metadata": {},
   "outputs": [],
   "source": [
    "def split_coor_basin(basin_file):\n",
    "    ''' split coordinate for each basin row data\n",
    "    '''\n",
    "    basin = pd.read_excel(basin_file)\n",
    "    basin.set_index('Unnamed: 0',inplace=True)\n",
    "    basin_row_con = {} ## data container\n",
    "#     basin_row_2d = [] ## basin row container\n",
    "    #iterate rows\n",
    "    for i in range(1,len(basin)):\n",
    "        basin_row_list = [] # row data container\n",
    "        basin_row = basin.iloc[i]\n",
    "        for j in range(len(basin_row)):\n",
    "            basin_row_pari = []\n",
    "            if ',' in str(basin_row[j]) and basin_row[j]:\n",
    "                basin_row_col_split = str(basin_row[j]).split(',') #split data\n",
    "                basin_row_pari.append(basin_row_col_split[0]) #saving long\n",
    "                basin_row_pari.append(basin_row_col_split[1])\n",
    "            basin_row_list.append(basin_row_pari) #saving pair to basin_row\n",
    "        basin_row_con[basin_row.name] = basin_row_list ## append list to 2d row container\n",
    "#         basin_row_con[basin_row.name] = basin_row_2d\n",
    "    return basin_row_con"
   ]
  },
  {
   "cell_type": "code",
   "execution_count": 56,
   "metadata": {},
   "outputs": [],
   "source": [
    "split_basin_data = split_coor_basin('basin.xlsx')"
   ]
  },
  {
   "cell_type": "code",
   "execution_count": 58,
   "metadata": {},
   "outputs": [],
   "source": []
  },
  {
   "cell_type": "code",
   "execution_count": 144,
   "metadata": {},
   "outputs": [],
   "source": [
    "def get_lat_long_range(split_basin_data):\n",
    "    '''for each basin df columns, split data to basin name, lat, long \n",
    "    '''\n",
    "    basins_range = [] ##basin coordinate range container\n",
    "#     lat_min = 0\n",
    "#     lat_max = 0\n",
    "#     long_min = 0\n",
    "#     long_max = 0\n",
    "#     basin_df_range = pd.DataFrame()\n",
    "    basin_df = pd.DataFrame(split_basin_data)\n",
    "    for col in basin_df.columns: # for each dataframe columns\n",
    "\n",
    "        basin_range = {}\n",
    "        basin_range['basin_name'] = col\n",
    "#         basin_col = basin_df[col] \n",
    "        basin_col_long = []\n",
    "        basin_col_lat = []\n",
    "        for row_data in basin_df[col]: # for each row in basin_col\n",
    "#             basin_df_range['basin_name'] = col\n",
    "            if row_data and len(row_data) == 2 : #and '-' not in row_data\n",
    "#                 print(row_data)\n",
    "#                 print(type(row_data))\n",
    "#                 row_data = row_data[0] ## get lis value\n",
    "#                 print(row_data)\n",
    "                basin_col_long.append(row_data[0])\n",
    "                basin_col_lat.append(row_data[1])\n",
    "#         print(basin_col_long)\n",
    "#         print(basin_col_lat)\n",
    "#         break\n",
    "        ## get basin lat and long range\n",
    "        basin_range['long_min'] = min(basin_col_long) \n",
    "        basin_range['long_max'] = max(basin_col_long)\n",
    "        basin_range['lat_min'] = min(basin_col_lat)\n",
    "        basin_range['lat_max'] = max(basin_col_lat)\n",
    "        \n",
    "        basins_range.append(basin_range)\n",
    "        \n",
    "    return basins_range\n",
    "        \n",
    "#                 basin_df_range['lat'] = basin_col[i].split(',')[1]  #basin lat   "
   ]
  },
  {
   "cell_type": "code",
   "execution_count": 162,
   "metadata": {},
   "outputs": [],
   "source": [
    "basins_range = get_lat_long_range(split_basin_data)"
   ]
  },
  {
   "cell_type": "code",
   "execution_count": 221,
   "metadata": {},
   "outputs": [],
   "source": [
    "basins_range[1]\n",
    "basins_range_df = pd.DataFrame.from_records(basins_range)"
   ]
  },
  {
   "cell_type": "code",
   "execution_count": 222,
   "metadata": {},
   "outputs": [
    {
     "data": {
      "text/html": [
       "<div>\n",
       "<style scoped>\n",
       "    .dataframe tbody tr th:only-of-type {\n",
       "        vertical-align: middle;\n",
       "    }\n",
       "\n",
       "    .dataframe tbody tr th {\n",
       "        vertical-align: top;\n",
       "    }\n",
       "\n",
       "    .dataframe thead th {\n",
       "        text-align: right;\n",
       "    }\n",
       "</style>\n",
       "<table border=\"1\" class=\"dataframe\">\n",
       "  <thead>\n",
       "    <tr style=\"text-align: right;\">\n",
       "      <th></th>\n",
       "      <th>basin_name</th>\n",
       "      <th>long_min</th>\n",
       "      <th>long_max</th>\n",
       "      <th>lat_min</th>\n",
       "      <th>lat_max</th>\n",
       "    </tr>\n",
       "  </thead>\n",
       "  <tbody>\n",
       "    <tr>\n",
       "      <td>0</td>\n",
       "      <td>Faroe - Shetland Escarpment</td>\n",
       "      <td>-0.007939999999962311</td>\n",
       "      <td>1.912470000000041</td>\n",
       "      <td>60.08393867900003</td>\n",
       "      <td>64.33822000000004</td>\n",
       "    </tr>\n",
       "    <tr>\n",
       "      <td>1</td>\n",
       "      <td>Porcupine</td>\n",
       "      <td>-11.28532999999993</td>\n",
       "      <td>-13.98371999999995</td>\n",
       "      <td>49.14216000000004</td>\n",
       "      <td>53.27784000000002</td>\n",
       "    </tr>\n",
       "    <tr>\n",
       "      <td>2</td>\n",
       "      <td>North Lewis</td>\n",
       "      <td>-5.176649999999937</td>\n",
       "      <td>-7.00010999999995</td>\n",
       "      <td>58.28707000000003</td>\n",
       "      <td>59.75718721400006</td>\n",
       "    </tr>\n",
       "    <tr>\n",
       "      <td>3</td>\n",
       "      <td>Blake Plateau Ultradeep</td>\n",
       "      <td>-75.47845999999998</td>\n",
       "      <td>-76.85803</td>\n",
       "      <td>27.28387000000003</td>\n",
       "      <td>31.01669322200006</td>\n",
       "    </tr>\n",
       "    <tr>\n",
       "      <td>4</td>\n",
       "      <td>Doukkala Ultradeep</td>\n",
       "      <td>-10.00062999999994</td>\n",
       "      <td>-9.980449999999962</td>\n",
       "      <td>30.29466081500004</td>\n",
       "      <td>36.64070000000003</td>\n",
       "    </tr>\n",
       "  </tbody>\n",
       "</table>\n",
       "</div>"
      ],
      "text/plain": [
       "                    basin_name               long_min            long_max  \\\n",
       "0  Faroe - Shetland Escarpment  -0.007939999999962311   1.912470000000041   \n",
       "1                    Porcupine     -11.28532999999993  -13.98371999999995   \n",
       "2                  North Lewis     -5.176649999999937   -7.00010999999995   \n",
       "3      Blake Plateau Ultradeep     -75.47845999999998           -76.85803   \n",
       "4           Doukkala Ultradeep     -10.00062999999994  -9.980449999999962   \n",
       "\n",
       "             lat_min            lat_max  \n",
       "0  60.08393867900003  64.33822000000004  \n",
       "1  49.14216000000004  53.27784000000002  \n",
       "2  58.28707000000003  59.75718721400006  \n",
       "3  27.28387000000003  31.01669322200006  \n",
       "4  30.29466081500004  36.64070000000003  "
      ]
     },
     "execution_count": 222,
     "metadata": {},
     "output_type": "execute_result"
    }
   ],
   "source": [
    "basins_range_df.head()"
   ]
  },
  {
   "cell_type": "code",
   "execution_count": 148,
   "metadata": {},
   "outputs": [],
   "source": [
    "field = pd.read_excel('field.xlsx')\n",
    "field_arr = field[['field','long','lat']]\n",
    "field_arr.set_index('field',inplace=True)"
   ]
  },
  {
   "cell_type": "code",
   "execution_count": 156,
   "metadata": {},
   "outputs": [
    {
     "data": {
      "text/plain": [
       "long    66.0\n",
       "lat     37.0\n",
       "Name: SHIBARGHAN, dtype: float64"
      ]
     },
     "execution_count": 156,
     "metadata": {},
     "output_type": "execute_result"
    }
   ],
   "source": [
    "field_arr.iloc[1]"
   ]
  },
  {
   "cell_type": "code",
   "execution_count": 239,
   "metadata": {},
   "outputs": [],
   "source": [
    "def get_basin(field_file,basins_range):\n",
    "    '''project field lat and long to correspoding basin name\n",
    "    \n",
    "    Args:\n",
    "        field,dataframe with storing field coordinates\n",
    "        basin,basin coordinates\n",
    "    Returns:\n",
    "        field-basin, corresponding dataframe\n",
    "        \n",
    "    '''\n",
    "    ## read in data\n",
    "    field = pd.read_excel(field_file)\n",
    "#     basin = pd.read_excel('basin.xlsx')\n",
    "    field_basin = {}\n",
    "    field_arr = field[['field','long','lat']]\n",
    "    field_arr.set_index('field',inplace=True)\n",
    "    field_arr['basin'] = None\n",
    "    for i in range(len(field_arr)): #for each row \n",
    "        row_data = field_arr.iloc[i] \n",
    "        long_lat_data = row_data.to_list()\n",
    "        long = long_lat_data[0]  #field long\n",
    "        lat = long_lat_data[1]   #field lat\n",
    "#         print(long,lat)\n",
    "#         print(long.values())\n",
    "#         print(type(long))\n",
    "        for basin_range in basins_range: ## get basin name\n",
    "            if str(long) >= basin_range['long_min'] \\\n",
    "                and str(long) <= basin_range['long_max'] \\\n",
    "                and str(lat) >= basin_range['lat_min']\\\n",
    "                and str(lat) <= basin_range['lat_max']:\n",
    "#                 print(basin_range['basin_name'])\n",
    "        \n",
    "#                 field_basin[row_data.name] = basin_range['basin_name'] #get basin name\n",
    "                field_arr['basin'][i] = basin_range['basin_name']\n",
    "#                 print('find one corresponding basin')\n",
    "    return field_arr    \n",
    "#     return field_basin\n",
    "            \n",
    "    \n",
    "    "
   ]
  },
  {
   "cell_type": "code",
   "execution_count": 240,
   "metadata": {},
   "outputs": [
    {
     "name": "stderr",
     "output_type": "stream",
     "text": [
      "D:\\Users\\Administrator\\Anaconda3\\lib\\site-packages\\ipykernel_launcher.py:17: SettingWithCopyWarning: \n",
      "A value is trying to be set on a copy of a slice from a DataFrame.\n",
      "Try using .loc[row_indexer,col_indexer] = value instead\n",
      "\n",
      "See the caveats in the documentation: http://pandas.pydata.org/pandas-docs/stable/user_guide/indexing.html#returning-a-view-versus-a-copy\n",
      "D:\\Users\\Administrator\\Anaconda3\\lib\\site-packages\\ipykernel_launcher.py:34: SettingWithCopyWarning: \n",
      "A value is trying to be set on a copy of a slice from a DataFrame\n",
      "\n",
      "See the caveats in the documentation: http://pandas.pydata.org/pandas-docs/stable/user_guide/indexing.html#returning-a-view-versus-a-copy\n",
      "D:\\Users\\Administrator\\Anaconda3\\lib\\site-packages\\ipykernel_launcher.py:1: SettingWithCopyWarning: \n",
      "A value is trying to be set on a copy of a slice from a DataFrame\n",
      "\n",
      "See the caveats in the documentation: http://pandas.pydata.org/pandas-docs/stable/user_guide/indexing.html#returning-a-view-versus-a-copy\n",
      "  \"\"\"Entry point for launching an IPython kernel.\n"
     ]
    }
   ],
   "source": [
    "field_basin = get_basin('field.xlsx',basins_range)"
   ]
  }
 ],
 "metadata": {
  "kernelspec": {
   "display_name": "Python 3",
   "language": "python",
   "name": "python3"
  },
  "language_info": {
   "codemirror_mode": {
    "name": "ipython",
    "version": 3
   },
   "file_extension": ".py",
   "mimetype": "text/x-python",
   "name": "python",
   "nbconvert_exporter": "python",
   "pygments_lexer": "ipython3",
   "version": "3.7.4"
  }
 },
 "nbformat": 4,
 "nbformat_minor": 2
}
