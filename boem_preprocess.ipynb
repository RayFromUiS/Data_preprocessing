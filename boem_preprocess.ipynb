{
 "cells": [
  {
   "cell_type": "code",
   "execution_count": 111,
   "metadata": {},
   "outputs": [],
   "source": [
    "import pandas as pd\n",
    "import re\n",
    "import os\n",
    "import warnings\n",
    "import time\n",
    "warnings.filterwarnings(\"ignore\")"
   ]
  },
  {
   "cell_type": "code",
   "execution_count": 66,
   "metadata": {},
   "outputs": [],
   "source": [
    "file_name = 'Production-A-2019_01.xlsx'"
   ]
  },
  {
   "cell_type": "code",
   "execution_count": 17,
   "metadata": {},
   "outputs": [],
   "source": [
    "# excel = pd.read_excel(file_name)"
   ]
  },
  {
   "cell_type": "code",
   "execution_count": 105,
   "metadata": {},
   "outputs": [],
   "source": [
    "def output_info():\n",
    "    '''output basical function of this app\n",
    "    '''\n",
    "    print('====================================================')\n",
    "    print('**Please collect all the excel file inside of one folder')\n",
    "    print('**All the file shall be converted to excel via pdf reader')\n",
    "#     print('while you have converted, chinese character with '_' at the end shall be deleted ')\n",
    "    print('**Ready to be preprocess file in the name of such like *-*-4 digits-*')\n",
    "    print('**Output is a cleaned dataframe')\n",
    "    print('====================================================')"
   ]
  },
  {
   "cell_type": "code",
   "execution_count": 107,
   "metadata": {},
   "outputs": [],
   "source": [
    "def get_file_path():\n",
    "    '''\n",
    "    saving all the xls or xlsx extend to  list\n",
    "    '''\n",
    "    \n",
    "    file_paths = []\n",
    "    ##working down roots,'../../'\n",
    "    for root, dirs, files in os.walk(\"./\", topdown=True):\n",
    "#         print(root,dirs)\n",
    "        for filename in files:\n",
    "            if filename.endswith('.xlsx') | filename.endswith('.xls'):\n",
    "                file_path = os.path.join(root, filename)                \n",
    "                file_paths.append(file_path)\n",
    "    print('** find file with xls or xlsx extentions',file_paths)\n",
    "    return file_paths"
   ]
  },
  {
   "cell_type": "code",
   "execution_count": 42,
   "metadata": {},
   "outputs": [
    {
     "data": {
      "text/plain": [
       "['./writer.xls', './xls\\\\Production-A-2019_01.xlsx']"
      ]
     },
     "execution_count": 42,
     "metadata": {},
     "output_type": "execute_result"
    }
   ],
   "source": [
    "file_path"
   ]
  },
  {
   "cell_type": "code",
   "execution_count": 52,
   "metadata": {},
   "outputs": [],
   "source": [
    "def preprocess(file):\n",
    "    '''extracts wanted df\n",
    "    \n",
    "    '''\n",
    "    col_names =['Date','Oper','Field','Lease','Unit','Well','API Number',\n",
    "                                'Completion Date','Int','Prod Days','Oil(BBLS)','Gas(MCF)','Water(BBLS)']\n",
    "    selected_cols =['Date','Oper','Field','Lease','Unit','Well','API Number',\\\n",
    "                         'Comp Date','Int','Prod','Oil(BBLS)','Gas(MCF)','(BBLS)']\n",
    "    try:\n",
    "        file_year = file.split('-')[-1][0:4]\n",
    "        \n",
    "        df = pd.read_excel(file)\n",
    "        pre_df = pd.DataFrame()\n",
    "        pre_df = df   \n",
    "        columns_name = pre_df.columns\n",
    "        ##crate the mask based on column names\n",
    "        mask = (pre_df[columns_name[0]] =='Date   Oper') | \\\n",
    "                    (pre_df[columns_name[0]].str.contains(file_year))\n",
    "        pre_df = pre_df[mask]\n",
    "        pre_df.columns = pre_df.iloc[0:1,:].squeeze().to_list()\n",
    "        ##split data of certain columns\n",
    "        pre_df['Date'] = pre_df['Date   Oper'].apply(lambda x:x.split(' ')[0])\n",
    "        pre_df['Oper'] = pre_df['Date   Oper'].apply(lambda x:x.split(' ')[-1])\n",
    "        pre_df['Field'] = pre_df['Field    Lease'].astype('str').apply(lambda x:x.split(' ')[0])\n",
    "        pre_df['Lease'] = pre_df['Field    Lease'].astype('str').apply(lambda x:x.split(' ')[-1])\n",
    "    #     print(pre_df.columns)\n",
    "        ##select reaming columns\n",
    "        pre_df = pre_df[selected_cols]\n",
    "        ## drop first row\n",
    "        preprocessed = pre_df.drop([1],axis =0)\n",
    "        preprocessed.reset_index(drop =True)\n",
    "\n",
    "        preprocessed.columns = col_names\n",
    "    \n",
    "        return preprocessed\n",
    "        \n",
    "    except:\n",
    "         print('one of your xls file in the wrong format,please check if it like \\*-\\*-4 digits-*')\n"
   ]
  },
  {
   "cell_type": "code",
   "execution_count": 91,
   "metadata": {},
   "outputs": [],
   "source": [
    "def main():\n",
    "    \n",
    "    whole_dfs = []\n",
    "    ## output app info\n",
    "    output_info()\n",
    "    ## save the files to list\n",
    "    file_paths = get_file_path()\n",
    "    if len(file_paths) >0:\n",
    "        for file_path in file_paths:\n",
    "            ##check the format by regex\n",
    "            if re.search(r'\\d{4}',file_path):\n",
    "                try:\n",
    "                    pre_df = preprocess(file_path)\n",
    "                    whole_dfs.append(pre_df)\n",
    "                except:\n",
    "                    print('one of file is in the wrong column names')\n",
    "    else:\n",
    "        print('no file to be preprocessed')\n",
    "        \n",
    "    return whole_dfs\n",
    "    "
   ]
  },
  {
   "cell_type": "code",
   "execution_count": 110,
   "metadata": {},
   "outputs": [
    {
     "name": "stdout",
     "output_type": "stream",
     "text": [
      "====================================================\n",
      "**Please collect all the excel file inside of one folder\n",
      "**All the file shall be converted to excel via pdf reader\n",
      "**Ready to be preprocess file in the name of such like *-*-4 digits-*\n",
      "**Output is a cleaned dataframe\n",
      "====================================================\n",
      "** find file with xls or xlsx extentions ['./writer.xls', './xls\\\\Production-A-2019_01.xlsx']\n"
     ]
    }
   ],
   "source": [
    "df = main()"
   ]
  },
  {
   "cell_type": "code",
   "execution_count": 89,
   "metadata": {},
   "outputs": [
    {
     "data": {
      "text/plain": [
       "[         Date   Oper  Field  Lease Unit   Well    API Number Completion Date  \\\n",
       " 2      201901  03151  WD030  00016  NaN   E002  177190022500        19710819   \n",
       " 3      201901  03151  WD030  00016  NaN  E002D  177190022500        19610210   \n",
       " 4      201901  03151  WD030  00016  NaN  E002Q  177190022500        19970901   \n",
       " 5      201901  03151  WD030  00016  NaN  E002T  177190022500        19970901   \n",
       " 6      201901  03151  WD030  00016  NaN   E016  177194064700        20000604   \n",
       " ...       ...    ...    ...    ...  ...    ...           ...             ...   \n",
       " 10946  201910  03295  WD105  00842  NaN  E005D  177194040500        19930922   \n",
       " 10947  201910  03295  WD105  00842  NaN   E007  177194040600        20020511   \n",
       " 10948  201910  03295  WD105  00842  NaN   E008  177194041101        20040312   \n",
       " 10949  201910  03295  WD105  00842  NaN   E011  177194041401        19950328   \n",
       " 10950  201910  03295  WD105  00842  NaN   E013  177194042001        20110513   \n",
       " \n",
       "        Int Prod Days Oil(BBLS) Gas(MCF) Water(BBLS)  \n",
       " 2      Q04         0         0        0           0  \n",
       " 3      Q01         0         0        0           0  \n",
       " 4      Q64         0         0        0           0  \n",
       " 5      Q65         0         0        0           0  \n",
       " 6      S03         3         0       50           0  \n",
       " ...    ...       ...       ...      ...         ...  \n",
       " 10946  D03        31       169     1179       19331  \n",
       " 10947  S02        31       809     2284       46848  \n",
       " 10948  S02         0         0        0           0  \n",
       " 10949  S01        31      1382     2514       38760  \n",
       " 10950  S02         0         0        0           0  \n",
       " \n",
       " [10184 rows x 13 columns]]"
      ]
     },
     "execution_count": 89,
     "metadata": {},
     "output_type": "execute_result"
    }
   ],
   "source": [
    "df"
   ]
  },
  {
   "cell_type": "code",
   "execution_count": 81,
   "metadata": {},
   "outputs": [],
   "source": [
    "a = re.search('\\d{4}',file_name)"
   ]
  },
  {
   "cell_type": "code",
   "execution_count": 82,
   "metadata": {},
   "outputs": [
    {
     "name": "stdout",
     "output_type": "stream",
     "text": [
      "true\n"
     ]
    }
   ],
   "source": [
    "if a:\n",
    "    print('true')"
   ]
  },
  {
   "cell_type": "code",
   "execution_count": null,
   "metadata": {},
   "outputs": [],
   "source": []
  }
 ],
 "metadata": {
  "kernelspec": {
   "display_name": "Python 3",
   "language": "python",
   "name": "python3"
  },
  "language_info": {
   "codemirror_mode": {
    "name": "ipython",
    "version": 3
   },
   "file_extension": ".py",
   "mimetype": "text/x-python",
   "name": "python",
   "nbconvert_exporter": "python",
   "pygments_lexer": "ipython3",
   "version": "3.7.4"
  }
 },
 "nbformat": 4,
 "nbformat_minor": 2
}
